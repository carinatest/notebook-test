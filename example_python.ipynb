{
 "cells": [
  {
   "cell_type": "markdown",
   "id": "29ed3dc9",
   "metadata": {},
   "source": [
    "# Python Dataset Exploration Notebook\n",
    "This notebook demonstrates how to install dependencies, import common data science libraries, and access the mounted dataset via the DATA_DIR environment variable or /data."
   ]
  },
  {
   "cell_type": "markdown",
   "id": "e2ccedbd",
   "metadata": {},
   "source": [
    "## Install Dependencies\n",
    "Installs packages listed in requirements.txt. Add any additional libraries your analysis needs there."
   ]
  },
  {
   "cell_type": "code",
   "execution_count": null,
   "id": "1d41f1e0",
   "metadata": {},
   "outputs": [],
   "source": [
    "# Install dependencies from requirements.txt (silent)\n",
    "!pip install -r requirements.txt > /dev/null"
   ]
  },
  {
   "cell_type": "code",
   "execution_count": null,
   "id": "48de8e7f",
   "metadata": {},
   "outputs": [],
   "source": [
    "# Example: install a package NOT listed in requirements.txt\n",
    "# Useful for quick experiments\n",
    "!pip install polars --quiet\n",
    "import polars as pl"
   ]
  },
  {
   "cell_type": "markdown",
   "id": "5ee74880",
   "metadata": {},
   "source": [
    "## Import Common Libraries\n",
    "Example imports of widely used data science libraries."
   ]
  },
  {
   "cell_type": "code",
   "execution_count": null,
   "id": "48afe48a",
   "metadata": {},
   "outputs": [],
   "source": [
    "import os\n",
    "from pathlib import Path\n",
    "import pandas as pd\n",
    "import seaborn as sns\n",
    "import matplotlib.pyplot as plt\n",
    "print('pandas version:', pd.__version__)\n",
    "print('seaborn version:', sns.__version__)"
   ]
  },
  {
   "cell_type": "markdown",
   "id": "8eb1255f",
   "metadata": {},
   "source": [
    "## Inspect Dataset Directory\n",
    "DATA_DIR is an environment variable pointing to the mounted (read-only) dataset directory. You can also access it via the /data symlink. Always prefer DATA_DIR for portability."
   ]
  },
  {
   "cell_type": "code",
   "execution_count": null,
   "id": "66a5c880",
   "metadata": {},
   "outputs": [],
   "source": [
    "data_dir = Path(os.environ['DATA_DIR'])\n",
    "print('DATA_DIR =', data_dir)\n",
    "print('\\nListing via DATA_DIR:')\n",
    "for p in data_dir.iterdir():\n",
    "    print(' -', p.name)\n",
    "\n",
    "csvs = sorted(data_dir.glob('*.csv'))\n",
    "df = None\n",
    "if csvs:\n",
    "    first = csvs[0]\n",
    "    print(f\"\\nAttempting to load {first.name} ...\")\n",
    "    df = pd.read_csv(first)\n",
    "    \n",
    "    if df is not None:\n",
    "        print('Shape =', df.shape)\n",
    "        display(df.head())"
   ]
  },
  {
   "cell_type": "markdown",
   "metadata": {},
   "source": [
    "## Example library usage\n",
    "Converts the pandas DataFrame (df) to a Polars DataFrame (pl_df), displays the first rows, and computes simple column means using Polars expressions"
   ]
  },
  {
   "cell_type": "code",
   "execution_count": null,
   "id": "259d954d",
   "metadata": {},
   "outputs": [],
   "source": [
    "if 'df' in locals() and isinstance(df, pd.DataFrame) and df is not None:\n",
    "    pl_df = pl.from_pandas(df)\n",
    "    print('Converted pandas DataFrame to polars shape =', pl_df.shape)\n",
    "    print(pl_df.head())\n",
    "    print('\\nColumn means:')\n",
    "    print(pl_df.select(pl.all().mean()))"
   ]
  }
 ],
 "metadata": {
  "language_info": {
   "name": "python"
  }
 },
 "nbformat": 4,
 "nbformat_minor": 5
}
